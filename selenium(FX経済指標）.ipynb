{
 "cells": [
  {
   "cell_type": "code",
   "execution_count": 1,
   "metadata": {},
   "outputs": [],
   "source": [
    "import pandas as pd\n",
    "from selenium import webdriver\n",
    "browser = webdriver.Chrome()\n",
    "browser.get(\"https://www.fxshihyo.com/ar/month201901.php\")"
   ]
  },
  {
   "cell_type": "code",
   "execution_count": 2,
   "metadata": {},
   "outputs": [],
   "source": [
    "title_dates = browser.find_elements_by_class_name('title_day')\n",
    "lists = browser.find_elements_by_class_name('list_waku')"
   ]
  },
  {
   "cell_type": "markdown",
   "metadata": {},
   "source": [
    "## 日付をPandasに入れる。"
   ]
  },
  {
   "cell_type": "code",
   "execution_count": 396,
   "metadata": {},
   "outputs": [
    {
     "data": {
      "text/plain": [
       "23"
      ]
     },
     "execution_count": 396,
     "metadata": {},
     "output_type": "execute_result"
    }
   ],
   "source": [
    "len(title_dates)"
   ]
  },
  {
   "cell_type": "code",
   "execution_count": 397,
   "metadata": {},
   "outputs": [],
   "source": [
    "_date =[]\n",
    "for title_date in title_dates:\n",
    "    date = title_date.text.split()[0]\n",
    "    _date.append(date)"
   ]
  },
  {
   "cell_type": "code",
   "execution_count": 398,
   "metadata": {},
   "outputs": [
    {
     "data": {
      "text/html": [
       "<div>\n",
       "<style scoped>\n",
       "    .dataframe tbody tr th:only-of-type {\n",
       "        vertical-align: middle;\n",
       "    }\n",
       "\n",
       "    .dataframe tbody tr th {\n",
       "        vertical-align: top;\n",
       "    }\n",
       "\n",
       "    .dataframe thead th {\n",
       "        text-align: right;\n",
       "    }\n",
       "</style>\n",
       "<table border=\"1\" class=\"dataframe\">\n",
       "  <thead>\n",
       "    <tr style=\"text-align: right;\">\n",
       "      <th></th>\n",
       "      <th>date</th>\n",
       "    </tr>\n",
       "  </thead>\n",
       "  <tbody>\n",
       "    <tr>\n",
       "      <th>0</th>\n",
       "      <td>01/01（火）</td>\n",
       "    </tr>\n",
       "    <tr>\n",
       "      <th>1</th>\n",
       "      <td>01/02（水）</td>\n",
       "    </tr>\n",
       "    <tr>\n",
       "      <th>2</th>\n",
       "      <td>01/03（木）</td>\n",
       "    </tr>\n",
       "  </tbody>\n",
       "</table>\n",
       "</div>"
      ],
      "text/plain": [
       "       date\n",
       "0  01/01（火）\n",
       "1  01/02（水）\n",
       "2  01/03（木）"
      ]
     },
     "execution_count": 398,
     "metadata": {},
     "output_type": "execute_result"
    }
   ],
   "source": [
    "date_df = pd.DataFrame({'date':_date})\n",
    "date_df.head(3)"
   ]
  },
  {
   "cell_type": "markdown",
   "metadata": {},
   "source": [
    "## 内容をPandasに入れる。"
   ]
  },
  {
   "cell_type": "code",
   "execution_count": 399,
   "metadata": {},
   "outputs": [
    {
     "data": {
      "text/plain": [
       "23"
      ]
     },
     "execution_count": 399,
     "metadata": {},
     "output_type": "execute_result"
    }
   ],
   "source": [
    "len(lists)"
   ]
  },
  {
   "cell_type": "code",
   "execution_count": 400,
   "metadata": {},
   "outputs": [],
   "source": [
    "_list = []\n",
    "for list in lists:\n",
    "    list = list.text.split('結果\\n\\n')[1:]\n",
    "    _list.append(list)"
   ]
  },
  {
   "cell_type": "code",
   "execution_count": 401,
   "metadata": {},
   "outputs": [
    {
     "data": {
      "text/html": [
       "<div>\n",
       "<style scoped>\n",
       "    .dataframe tbody tr th:only-of-type {\n",
       "        vertical-align: middle;\n",
       "    }\n",
       "\n",
       "    .dataframe tbody tr th {\n",
       "        vertical-align: top;\n",
       "    }\n",
       "\n",
       "    .dataframe thead th {\n",
       "        text-align: right;\n",
       "    }\n",
       "</style>\n",
       "<table border=\"1\" class=\"dataframe\">\n",
       "  <thead>\n",
       "    <tr style=\"text-align: right;\">\n",
       "      <th></th>\n",
       "      <th>contents</th>\n",
       "    </tr>\n",
       "  </thead>\n",
       "  <tbody>\n",
       "    <tr>\n",
       "      <th>0</th>\n",
       "      <td>[--\\n注目度の高い経済指標の発表はない\\n--\\n--\\n--]</td>\n",
       "    </tr>\n",
       "    <tr>\n",
       "      <th>1</th>\n",
       "      <td>[10:45\\n財新製造業PMI\\n★★\\n50.2\\n50.1\\n49.7\\n\\n17:5...</td>\n",
       "    </tr>\n",
       "    <tr>\n",
       "      <th>2</th>\n",
       "      <td>[17:30\\n製造業PMI\\n57.7\\n57.2\\n57.8\\n\\n18:30\\n建設業...</td>\n",
       "    </tr>\n",
       "  </tbody>\n",
       "</table>\n",
       "</div>"
      ],
      "text/plain": [
       "                                            contents\n",
       "0                 [--\\n注目度の高い経済指標の発表はない\\n--\\n--\\n--]\n",
       "1  [10:45\\n財新製造業PMI\\n★★\\n50.2\\n50.1\\n49.7\\n\\n17:5...\n",
       "2  [17:30\\n製造業PMI\\n57.7\\n57.2\\n57.8\\n\\n18:30\\n建設業..."
      ]
     },
     "execution_count": 401,
     "metadata": {},
     "output_type": "execute_result"
    }
   ],
   "source": [
    "list_df = pd.DataFrame({'contents':_list})\n",
    "list_df.head(3)"
   ]
  },
  {
   "cell_type": "markdown",
   "metadata": {},
   "source": [
    "## 合体"
   ]
  },
  {
   "cell_type": "code",
   "execution_count": 402,
   "metadata": {},
   "outputs": [],
   "source": [
    "eco_indicator = pd.concat([date_df, list_df], axis=1)"
   ]
  },
  {
   "cell_type": "code",
   "execution_count": 403,
   "metadata": {},
   "outputs": [
    {
     "data": {
      "text/html": [
       "<div>\n",
       "<style scoped>\n",
       "    .dataframe tbody tr th:only-of-type {\n",
       "        vertical-align: middle;\n",
       "    }\n",
       "\n",
       "    .dataframe tbody tr th {\n",
       "        vertical-align: top;\n",
       "    }\n",
       "\n",
       "    .dataframe thead th {\n",
       "        text-align: right;\n",
       "    }\n",
       "</style>\n",
       "<table border=\"1\" class=\"dataframe\">\n",
       "  <thead>\n",
       "    <tr style=\"text-align: right;\">\n",
       "      <th></th>\n",
       "      <th>date</th>\n",
       "      <th>contents</th>\n",
       "    </tr>\n",
       "  </thead>\n",
       "  <tbody>\n",
       "    <tr>\n",
       "      <th>0</th>\n",
       "      <td>01/01（火）</td>\n",
       "      <td>[--\\n注目度の高い経済指標の発表はない\\n--\\n--\\n--]</td>\n",
       "    </tr>\n",
       "    <tr>\n",
       "      <th>1</th>\n",
       "      <td>01/02（水）</td>\n",
       "      <td>[10:45\\n財新製造業PMI\\n★★\\n50.2\\n50.1\\n49.7\\n\\n17:5...</td>\n",
       "    </tr>\n",
       "    <tr>\n",
       "      <th>2</th>\n",
       "      <td>01/03（木）</td>\n",
       "      <td>[17:30\\n製造業PMI\\n57.7\\n57.2\\n57.8\\n\\n18:30\\n建設業...</td>\n",
       "    </tr>\n",
       "    <tr>\n",
       "      <th>3</th>\n",
       "      <td>01/04（金）</td>\n",
       "      <td>[10:45\\n財新サービス業PMI\\n★★\\n53.8\\n53.0\\n53.9\\n\\n17...</td>\n",
       "    </tr>\n",
       "    <tr>\n",
       "      <th>4</th>\n",
       "      <td>01/07（月）</td>\n",
       "      <td>[06:30\\nAIG製造業指数\\n51.3\\n--\\n49.5\\n\\n16:00\\n製造業...</td>\n",
       "    </tr>\n",
       "    <tr>\n",
       "      <th>5</th>\n",
       "      <td>01/08（火）</td>\n",
       "      <td>[09:30\\n貿易収支\\n★★★\\n+23.16億\\n(+20.13億)\\n+22.30億...</td>\n",
       "    </tr>\n",
       "    <tr>\n",
       "      <th>6</th>\n",
       "      <td>01/09（水）</td>\n",
       "      <td>[06:30\\nAIGサービス業指数\\n55.1\\n--\\n52.1\\n\\n09:30\\n住...</td>\n",
       "    </tr>\n",
       "    <tr>\n",
       "      <th>7</th>\n",
       "      <td>01/10（木）</td>\n",
       "      <td>[09:25\\n黒田日銀総裁の発言\\n★★★\\n要人発言\\n\\n10:30\\n消費者物価指数...</td>\n",
       "    </tr>\n",
       "    <tr>\n",
       "      <th>8</th>\n",
       "      <td>01/11（金）</td>\n",
       "      <td>[06:30\\nAIG建設業指数\\n44.5\\n--\\n42.6\\n\\n06:45\\n住宅建...</td>\n",
       "    </tr>\n",
       "    <tr>\n",
       "      <th>9</th>\n",
       "      <td>01/14（月）</td>\n",
       "      <td>[12:03\\n貿易収支\\n★★★\\n+447.4億\\n(+418.6億)\\n+515.3億...</td>\n",
       "    </tr>\n",
       "    <tr>\n",
       "      <th>10</th>\n",
       "      <td>01/15（火）</td>\n",
       "      <td>[19:00\\n貿易収支\\n+140億\\n--\\n+190億\\n\\n20:47\\nJPモルガ...</td>\n",
       "    </tr>\n",
       "    <tr>\n",
       "      <th>11</th>\n",
       "      <td>01/16（水）</td>\n",
       "      <td>[08:30\\nウエストパック消費者信頼感指数\\n★\\n104.4\\n--\\n99.6\\n\\...</td>\n",
       "    </tr>\n",
       "    <tr>\n",
       "      <th>12</th>\n",
       "      <td>01/17（木）</td>\n",
       "      <td>[08:58\\nカシュカリ：ミネアポリス連銀総裁の発言\\n★\\n要人発言\\n\\n09:01\\...</td>\n",
       "    </tr>\n",
       "    <tr>\n",
       "      <th>13</th>\n",
       "      <td>01/18（金）</td>\n",
       "      <td>[06:30\\n製造業PMI\\n★\\n53.5\\n(53.7)\\n--\\n55.1\\n\\n0...</td>\n",
       "    </tr>\n",
       "    <tr>\n",
       "      <th>14</th>\n",
       "      <td>01/21（月）</td>\n",
       "      <td>[09:01\\nライトムーブ住宅価格\\n-1.5%/\\n+0.7%\\n--%/\\n--%\\n...</td>\n",
       "    </tr>\n",
       "    <tr>\n",
       "      <th>15</th>\n",
       "      <td>01/22（火）</td>\n",
       "      <td>[16:00\\n景気先行指数\\n105.7\\n105.5\\n105.5\\n\\n18:30\\n...</td>\n",
       "    </tr>\n",
       "    <tr>\n",
       "      <th>16</th>\n",
       "      <td>01/23（水）</td>\n",
       "      <td>[06:45\\n第4四半期消費者物価指数\\n★★★\\n+0.1%\\n(+0.9%)/\\n+1...</td>\n",
       "    </tr>\n",
       "    <tr>\n",
       "      <th>17</th>\n",
       "      <td>01/24（木）</td>\n",
       "      <td>[09:30\\n失業率＆新規雇用者数\\n★★★\\n5.1%/\\n+3.70万人\\n(+3.9...</td>\n",
       "    </tr>\n",
       "    <tr>\n",
       "      <th>18</th>\n",
       "      <td>01/25（金）</td>\n",
       "      <td>[08:30\\n東京消費者物価指数＆【除生鮮】\\n★\\n+0.4%/\\n+0.9%\\n+0....</td>\n",
       "    </tr>\n",
       "    <tr>\n",
       "      <th>19</th>\n",
       "      <td>01/28（月）</td>\n",
       "      <td>[08:50\\nBOJ議事要旨公表(12月19日・20日開催分)\\n★★\\n--\\n--\\n...</td>\n",
       "    </tr>\n",
       "    <tr>\n",
       "      <th>20</th>\n",
       "      <td>01/29（火）</td>\n",
       "      <td>[06:45\\n貿易収支\\n★\\n-8.61億\\n(-9.55億)\\n+1.50億\\n+2....</td>\n",
       "    </tr>\n",
       "    <tr>\n",
       "      <th>21</th>\n",
       "      <td>01/30（水）</td>\n",
       "      <td>[08:50\\n小売業販売額/百貨店・スーパー販売額\\n+1.4%/\\n-2.2%\\n+0....</td>\n",
       "    </tr>\n",
       "    <tr>\n",
       "      <th>22</th>\n",
       "      <td>01/31（木）</td>\n",
       "      <td>[08:50\\nBOJ主な意見公表(1月22日・23日開催分)\\n★★\\n--\\n--\\n-...</td>\n",
       "    </tr>\n",
       "  </tbody>\n",
       "</table>\n",
       "</div>"
      ],
      "text/plain": [
       "        date                                           contents\n",
       "0   01/01（火）                 [--\\n注目度の高い経済指標の発表はない\\n--\\n--\\n--]\n",
       "1   01/02（水）  [10:45\\n財新製造業PMI\\n★★\\n50.2\\n50.1\\n49.7\\n\\n17:5...\n",
       "2   01/03（木）  [17:30\\n製造業PMI\\n57.7\\n57.2\\n57.8\\n\\n18:30\\n建設業...\n",
       "3   01/04（金）  [10:45\\n財新サービス業PMI\\n★★\\n53.8\\n53.0\\n53.9\\n\\n17...\n",
       "4   01/07（月）  [06:30\\nAIG製造業指数\\n51.3\\n--\\n49.5\\n\\n16:00\\n製造業...\n",
       "5   01/08（火）  [09:30\\n貿易収支\\n★★★\\n+23.16億\\n(+20.13億)\\n+22.30億...\n",
       "6   01/09（水）  [06:30\\nAIGサービス業指数\\n55.1\\n--\\n52.1\\n\\n09:30\\n住...\n",
       "7   01/10（木）  [09:25\\n黒田日銀総裁の発言\\n★★★\\n要人発言\\n\\n10:30\\n消費者物価指数...\n",
       "8   01/11（金）  [06:30\\nAIG建設業指数\\n44.5\\n--\\n42.6\\n\\n06:45\\n住宅建...\n",
       "9   01/14（月）  [12:03\\n貿易収支\\n★★★\\n+447.4億\\n(+418.6億)\\n+515.3億...\n",
       "10  01/15（火）  [19:00\\n貿易収支\\n+140億\\n--\\n+190億\\n\\n20:47\\nJPモルガ...\n",
       "11  01/16（水）  [08:30\\nウエストパック消費者信頼感指数\\n★\\n104.4\\n--\\n99.6\\n\\...\n",
       "12  01/17（木）  [08:58\\nカシュカリ：ミネアポリス連銀総裁の発言\\n★\\n要人発言\\n\\n09:01\\...\n",
       "13  01/18（金）  [06:30\\n製造業PMI\\n★\\n53.5\\n(53.7)\\n--\\n55.1\\n\\n0...\n",
       "14  01/21（月）  [09:01\\nライトムーブ住宅価格\\n-1.5%/\\n+0.7%\\n--%/\\n--%\\n...\n",
       "15  01/22（火）  [16:00\\n景気先行指数\\n105.7\\n105.5\\n105.5\\n\\n18:30\\n...\n",
       "16  01/23（水）  [06:45\\n第4四半期消費者物価指数\\n★★★\\n+0.1%\\n(+0.9%)/\\n+1...\n",
       "17  01/24（木）  [09:30\\n失業率＆新規雇用者数\\n★★★\\n5.1%/\\n+3.70万人\\n(+3.9...\n",
       "18  01/25（金）  [08:30\\n東京消費者物価指数＆【除生鮮】\\n★\\n+0.4%/\\n+0.9%\\n+0....\n",
       "19  01/28（月）  [08:50\\nBOJ議事要旨公表(12月19日・20日開催分)\\n★★\\n--\\n--\\n...\n",
       "20  01/29（火）  [06:45\\n貿易収支\\n★\\n-8.61億\\n(-9.55億)\\n+1.50億\\n+2....\n",
       "21  01/30（水）  [08:50\\n小売業販売額/百貨店・スーパー販売額\\n+1.4%/\\n-2.2%\\n+0....\n",
       "22  01/31（木）  [08:50\\nBOJ主な意見公表(1月22日・23日開催分)\\n★★\\n--\\n--\\n-..."
      ]
     },
     "execution_count": 403,
     "metadata": {},
     "output_type": "execute_result"
    }
   ],
   "source": [
    "eco_indicator"
   ]
  },
  {
   "cell_type": "markdown",
   "metadata": {},
   "source": [
    "## データをクレンジング版(日付と内容)"
   ]
  },
  {
   "cell_type": "code",
   "execution_count": 450,
   "metadata": {},
   "outputs": [],
   "source": [
    "_date = []\n",
    "_country = []\n",
    "_content = []\n",
    "\n",
    "for i, title_date in enumerate(title_dates):\n",
    "    contents = lists[i].find_elements_by_class_name('list_b')\n",
    "    for content in  contents:\n",
    "        if content.text == '内容':\n",
    "            continue\n",
    "        else:\n",
    "            date = title_dates[i].text.split()[0]\n",
    "            _date.append(date)\n",
    "            # Get Country\n",
    "            elem     = content.find_element_by_tag_name('img')\n",
    "            url      = elem.get_attribute('src')\n",
    "            country1 = url.split('/')[5].split('_')[0]\n",
    "            _country.append(country1)\n",
    "            # Get Content\n",
    "            content1 = content.text\n",
    "            _content.append(content1)"
   ]
  },
  {
   "cell_type": "code",
   "execution_count": 451,
   "metadata": {},
   "outputs": [],
   "source": [
    "date_df = pd.DataFrame({'date':_date})"
   ]
  },
  {
   "cell_type": "code",
   "execution_count": 452,
   "metadata": {},
   "outputs": [],
   "source": [
    "list_df = pd.DataFrame({'contents':_content})"
   ]
  },
  {
   "cell_type": "code",
   "execution_count": 453,
   "metadata": {},
   "outputs": [],
   "source": [
    "flg_df = pd.DataFrame({'country':_country})"
   ]
  },
  {
   "cell_type": "code",
   "execution_count": 455,
   "metadata": {},
   "outputs": [],
   "source": [
    "eco_indicator = pd.concat([date_df, list_df, flg_df], axis=1)"
   ]
  },
  {
   "cell_type": "code",
   "execution_count": 456,
   "metadata": {},
   "outputs": [
    {
     "data": {
      "text/html": [
       "<div>\n",
       "<style scoped>\n",
       "    .dataframe tbody tr th:only-of-type {\n",
       "        vertical-align: middle;\n",
       "    }\n",
       "\n",
       "    .dataframe tbody tr th {\n",
       "        vertical-align: top;\n",
       "    }\n",
       "\n",
       "    .dataframe thead th {\n",
       "        text-align: right;\n",
       "    }\n",
       "</style>\n",
       "<table border=\"1\" class=\"dataframe\">\n",
       "  <thead>\n",
       "    <tr style=\"text-align: right;\">\n",
       "      <th></th>\n",
       "      <th>date</th>\n",
       "      <th>contents</th>\n",
       "      <th>country</th>\n",
       "    </tr>\n",
       "  </thead>\n",
       "  <tbody>\n",
       "    <tr>\n",
       "      <th>0</th>\n",
       "      <td>01/01（火）</td>\n",
       "      <td>注目度の高い経済指標の発表はない</td>\n",
       "      <td>usa</td>\n",
       "    </tr>\n",
       "    <tr>\n",
       "      <th>1</th>\n",
       "      <td>01/02（水）</td>\n",
       "      <td>財新製造業PMI</td>\n",
       "      <td>china</td>\n",
       "    </tr>\n",
       "    <tr>\n",
       "      <th>2</th>\n",
       "      <td>01/02（水）</td>\n",
       "      <td>製造業PMI【確報値】</td>\n",
       "      <td>Germany</td>\n",
       "    </tr>\n",
       "    <tr>\n",
       "      <th>3</th>\n",
       "      <td>01/02（水）</td>\n",
       "      <td>製造業PMI【確報値】</td>\n",
       "      <td>eu</td>\n",
       "    </tr>\n",
       "    <tr>\n",
       "      <th>4</th>\n",
       "      <td>01/02（水）</td>\n",
       "      <td>製造業PMI</td>\n",
       "      <td>uk</td>\n",
       "    </tr>\n",
       "    <tr>\n",
       "      <th>5</th>\n",
       "      <td>01/02（水）</td>\n",
       "      <td>注目度の高い経済指標の発表はない</td>\n",
       "      <td>usa</td>\n",
       "    </tr>\n",
       "    <tr>\n",
       "      <th>6</th>\n",
       "      <td>01/02（水）</td>\n",
       "      <td>製造業PMI【確報値】</td>\n",
       "      <td>usa</td>\n",
       "    </tr>\n",
       "    <tr>\n",
       "      <th>7</th>\n",
       "      <td>01/03（木）</td>\n",
       "      <td>製造業PMI</td>\n",
       "      <td>swiss</td>\n",
       "    </tr>\n",
       "    <tr>\n",
       "      <th>8</th>\n",
       "      <td>01/03（木）</td>\n",
       "      <td>建設業PMI</td>\n",
       "      <td>uk</td>\n",
       "    </tr>\n",
       "    <tr>\n",
       "      <th>9</th>\n",
       "      <td>01/03（木）</td>\n",
       "      <td>MBA住宅ローン申請指数</td>\n",
       "      <td>usa</td>\n",
       "    </tr>\n",
       "    <tr>\n",
       "      <th>10</th>\n",
       "      <td>01/03（木）</td>\n",
       "      <td>チャレンジャー人員削減数</td>\n",
       "      <td>usa</td>\n",
       "    </tr>\n",
       "    <tr>\n",
       "      <th>11</th>\n",
       "      <td>01/03（木）</td>\n",
       "      <td>ADP全国雇用者数</td>\n",
       "      <td>usa</td>\n",
       "    </tr>\n",
       "    <tr>\n",
       "      <th>12</th>\n",
       "      <td>01/03（木）</td>\n",
       "      <td>新規失業保険申請件数</td>\n",
       "      <td>usa</td>\n",
       "    </tr>\n",
       "    <tr>\n",
       "      <th>13</th>\n",
       "      <td>01/03（木）</td>\n",
       "      <td>ISM製造業景況指数</td>\n",
       "      <td>usa</td>\n",
       "    </tr>\n",
       "    <tr>\n",
       "      <th>14</th>\n",
       "      <td>01/04（金）</td>\n",
       "      <td>財新サービス業PMI</td>\n",
       "      <td>china</td>\n",
       "    </tr>\n",
       "    <tr>\n",
       "      <th>15</th>\n",
       "      <td>01/04（金）</td>\n",
       "      <td>失業率＆失業者数</td>\n",
       "      <td>Germany</td>\n",
       "    </tr>\n",
       "    <tr>\n",
       "      <th>16</th>\n",
       "      <td>01/04（金）</td>\n",
       "      <td>サービス業PMI【確報値】</td>\n",
       "      <td>Germany</td>\n",
       "    </tr>\n",
       "    <tr>\n",
       "      <th>17</th>\n",
       "      <td>01/04（金）</td>\n",
       "      <td>サービス業PMI【確報値】</td>\n",
       "      <td>eu</td>\n",
       "    </tr>\n",
       "    <tr>\n",
       "      <th>18</th>\n",
       "      <td>01/04（金）</td>\n",
       "      <td>サービス業PMI</td>\n",
       "      <td>uk</td>\n",
       "    </tr>\n",
       "    <tr>\n",
       "      <th>19</th>\n",
       "      <td>01/04（金）</td>\n",
       "      <td>消費者信用残高</td>\n",
       "      <td>uk</td>\n",
       "    </tr>\n",
       "    <tr>\n",
       "      <th>20</th>\n",
       "      <td>01/04（金）</td>\n",
       "      <td>消費者物価指数【速報値】＆【コア】</td>\n",
       "      <td>eu</td>\n",
       "    </tr>\n",
       "    <tr>\n",
       "      <th>21</th>\n",
       "      <td>01/04（金）</td>\n",
       "      <td>生産者物価指数</td>\n",
       "      <td>eu</td>\n",
       "    </tr>\n",
       "    <tr>\n",
       "      <th>22</th>\n",
       "      <td>01/04（金）</td>\n",
       "      <td>失業率＆雇用ネット変化</td>\n",
       "      <td>canada</td>\n",
       "    </tr>\n",
       "    <tr>\n",
       "      <th>23</th>\n",
       "      <td>01/04（金）</td>\n",
       "      <td>鉱工業製品価格</td>\n",
       "      <td>canada</td>\n",
       "    </tr>\n",
       "    <tr>\n",
       "      <th>24</th>\n",
       "      <td>01/04（金）</td>\n",
       "      <td>原料価格指数</td>\n",
       "      <td>canada</td>\n",
       "    </tr>\n",
       "    <tr>\n",
       "      <th>25</th>\n",
       "      <td>01/04（金）</td>\n",
       "      <td>雇用統計：非農業部門雇用者数</td>\n",
       "      <td>usa</td>\n",
       "    </tr>\n",
       "    <tr>\n",
       "      <th>26</th>\n",
       "      <td>01/04（金）</td>\n",
       "      <td>雇用統計：失業率</td>\n",
       "      <td>usa</td>\n",
       "    </tr>\n",
       "    <tr>\n",
       "      <th>27</th>\n",
       "      <td>01/04（金）</td>\n",
       "      <td>雇用統計：製造業雇用者数</td>\n",
       "      <td>usa</td>\n",
       "    </tr>\n",
       "    <tr>\n",
       "      <th>28</th>\n",
       "      <td>01/04（金）</td>\n",
       "      <td>雇用統計：平均時給</td>\n",
       "      <td>usa</td>\n",
       "    </tr>\n",
       "    <tr>\n",
       "      <th>29</th>\n",
       "      <td>01/04（金）</td>\n",
       "      <td>サービス業PMI【確報値】</td>\n",
       "      <td>usa</td>\n",
       "    </tr>\n",
       "    <tr>\n",
       "      <th>...</th>\n",
       "      <td>...</td>\n",
       "      <td>...</td>\n",
       "      <td>...</td>\n",
       "    </tr>\n",
       "    <tr>\n",
       "      <th>221</th>\n",
       "      <td>01/30（水）</td>\n",
       "      <td>消費者物価指数【速報値】</td>\n",
       "      <td>Germany</td>\n",
       "    </tr>\n",
       "    <tr>\n",
       "      <th>222</th>\n",
       "      <td>01/30（水）</td>\n",
       "      <td>ADP全国雇用者数</td>\n",
       "      <td>usa</td>\n",
       "    </tr>\n",
       "    <tr>\n",
       "      <th>223</th>\n",
       "      <td>01/30（水）</td>\n",
       "      <td>中古住宅販売保留</td>\n",
       "      <td>usa</td>\n",
       "    </tr>\n",
       "    <tr>\n",
       "      <th>224</th>\n",
       "      <td>01/30（水）</td>\n",
       "      <td>週間原油在庫</td>\n",
       "      <td>usa</td>\n",
       "    </tr>\n",
       "    <tr>\n",
       "      <th>225</th>\n",
       "      <td>01/30（水）</td>\n",
       "      <td>FOMC政策金利＆声明発表</td>\n",
       "      <td>usa</td>\n",
       "    </tr>\n",
       "    <tr>\n",
       "      <th>226</th>\n",
       "      <td>01/30（水）</td>\n",
       "      <td>FRB経済・金利見通し発表</td>\n",
       "      <td>usa</td>\n",
       "    </tr>\n",
       "    <tr>\n",
       "      <th>227</th>\n",
       "      <td>01/30（水）</td>\n",
       "      <td>パウエルFRB議長の記者会見</td>\n",
       "      <td>usa</td>\n",
       "    </tr>\n",
       "    <tr>\n",
       "      <th>228</th>\n",
       "      <td>01/31（木）</td>\n",
       "      <td>BOJ主な意見公表(1月22日・23日開催分)</td>\n",
       "      <td>japan</td>\n",
       "    </tr>\n",
       "    <tr>\n",
       "      <th>229</th>\n",
       "      <td>01/31（木）</td>\n",
       "      <td>鉱工業生産【速報値】</td>\n",
       "      <td>japan</td>\n",
       "    </tr>\n",
       "    <tr>\n",
       "      <th>230</th>\n",
       "      <td>01/31（木）</td>\n",
       "      <td>GFK消費者信頼感調査</td>\n",
       "      <td>uk</td>\n",
       "    </tr>\n",
       "    <tr>\n",
       "      <th>231</th>\n",
       "      <td>01/31（木）</td>\n",
       "      <td>第4四半期輸入物価指数/第4四半期輸出物価指数</td>\n",
       "      <td>australia</td>\n",
       "    </tr>\n",
       "    <tr>\n",
       "      <th>232</th>\n",
       "      <td>01/31（木）</td>\n",
       "      <td>製造業PMI</td>\n",
       "      <td>china</td>\n",
       "    </tr>\n",
       "    <tr>\n",
       "      <th>233</th>\n",
       "      <td>01/31（木）</td>\n",
       "      <td>非製造業PMI</td>\n",
       "      <td>china</td>\n",
       "    </tr>\n",
       "    <tr>\n",
       "      <th>234</th>\n",
       "      <td>01/31（木）</td>\n",
       "      <td>住宅着工戸数</td>\n",
       "      <td>japan</td>\n",
       "    </tr>\n",
       "    <tr>\n",
       "      <th>235</th>\n",
       "      <td>01/31（木）</td>\n",
       "      <td>小売売上高</td>\n",
       "      <td>Germany</td>\n",
       "    </tr>\n",
       "    <tr>\n",
       "      <th>236</th>\n",
       "      <td>01/31（木）</td>\n",
       "      <td>失業率＆失業者数</td>\n",
       "      <td>Germany</td>\n",
       "    </tr>\n",
       "    <tr>\n",
       "      <th>237</th>\n",
       "      <td>01/31（木）</td>\n",
       "      <td>生産者物価指数</td>\n",
       "      <td>m</td>\n",
       "    </tr>\n",
       "    <tr>\n",
       "      <th>238</th>\n",
       "      <td>01/31（木）</td>\n",
       "      <td>第4四半期GDP【速報値】</td>\n",
       "      <td>eu</td>\n",
       "    </tr>\n",
       "    <tr>\n",
       "      <th>239</th>\n",
       "      <td>01/31（木）</td>\n",
       "      <td>失業率</td>\n",
       "      <td>eu</td>\n",
       "    </tr>\n",
       "    <tr>\n",
       "      <th>240</th>\n",
       "      <td>01/31（木）</td>\n",
       "      <td>貿易収支</td>\n",
       "      <td>m</td>\n",
       "    </tr>\n",
       "    <tr>\n",
       "      <th>241</th>\n",
       "      <td>01/31（木）</td>\n",
       "      <td>チャレンジャー人員削減数</td>\n",
       "      <td>usa</td>\n",
       "    </tr>\n",
       "    <tr>\n",
       "      <th>242</th>\n",
       "      <td>01/31（木）</td>\n",
       "      <td>GDP</td>\n",
       "      <td>canada</td>\n",
       "    </tr>\n",
       "    <tr>\n",
       "      <th>243</th>\n",
       "      <td>01/31（木）</td>\n",
       "      <td>鉱工業製品価格</td>\n",
       "      <td>canada</td>\n",
       "    </tr>\n",
       "    <tr>\n",
       "      <th>244</th>\n",
       "      <td>01/31（木）</td>\n",
       "      <td>原料価格指数</td>\n",
       "      <td>canada</td>\n",
       "    </tr>\n",
       "    <tr>\n",
       "      <th>245</th>\n",
       "      <td>01/31（木）</td>\n",
       "      <td>新規失業保険申請件数</td>\n",
       "      <td>usa</td>\n",
       "    </tr>\n",
       "    <tr>\n",
       "      <th>246</th>\n",
       "      <td>01/31（木）</td>\n",
       "      <td>第4四半期雇用コスト指数</td>\n",
       "      <td>usa</td>\n",
       "    </tr>\n",
       "    <tr>\n",
       "      <th>247</th>\n",
       "      <td>01/31（木）</td>\n",
       "      <td>シカゴ購買部協会景気指数</td>\n",
       "      <td>usa</td>\n",
       "    </tr>\n",
       "    <tr>\n",
       "      <th>248</th>\n",
       "      <td>01/31（木）</td>\n",
       "      <td>新築住宅販売件数</td>\n",
       "      <td>usa</td>\n",
       "    </tr>\n",
       "    <tr>\n",
       "      <th>249</th>\n",
       "      <td>01/31（木）</td>\n",
       "      <td>バイトマン独連銀総裁の発言</td>\n",
       "      <td>Germany</td>\n",
       "    </tr>\n",
       "    <tr>\n",
       "      <th>250</th>\n",
       "      <td>01/31（木）</td>\n",
       "      <td>ウィルキンスBOC副総裁の発言</td>\n",
       "      <td>canada</td>\n",
       "    </tr>\n",
       "  </tbody>\n",
       "</table>\n",
       "<p>251 rows × 3 columns</p>\n",
       "</div>"
      ],
      "text/plain": [
       "         date                 contents    country\n",
       "0    01/01（火）         注目度の高い経済指標の発表はない        usa\n",
       "1    01/02（水）                 財新製造業PMI      china\n",
       "2    01/02（水）              製造業PMI【確報値】    Germany\n",
       "3    01/02（水）              製造業PMI【確報値】         eu\n",
       "4    01/02（水）                   製造業PMI         uk\n",
       "5    01/02（水）         注目度の高い経済指標の発表はない        usa\n",
       "6    01/02（水）              製造業PMI【確報値】        usa\n",
       "7    01/03（木）                   製造業PMI      swiss\n",
       "8    01/03（木）                   建設業PMI         uk\n",
       "9    01/03（木）             MBA住宅ローン申請指数        usa\n",
       "10   01/03（木）             チャレンジャー人員削減数        usa\n",
       "11   01/03（木）                ADP全国雇用者数        usa\n",
       "12   01/03（木）               新規失業保険申請件数        usa\n",
       "13   01/03（木）               ISM製造業景況指数        usa\n",
       "14   01/04（金）               財新サービス業PMI      china\n",
       "15   01/04（金）                 失業率＆失業者数    Germany\n",
       "16   01/04（金）            サービス業PMI【確報値】    Germany\n",
       "17   01/04（金）            サービス業PMI【確報値】         eu\n",
       "18   01/04（金）                 サービス業PMI         uk\n",
       "19   01/04（金）                  消費者信用残高         uk\n",
       "20   01/04（金）        消費者物価指数【速報値】＆【コア】         eu\n",
       "21   01/04（金）                  生産者物価指数         eu\n",
       "22   01/04（金）              失業率＆雇用ネット変化     canada\n",
       "23   01/04（金）                  鉱工業製品価格     canada\n",
       "24   01/04（金）                   原料価格指数     canada\n",
       "25   01/04（金）           雇用統計：非農業部門雇用者数        usa\n",
       "26   01/04（金）                 雇用統計：失業率        usa\n",
       "27   01/04（金）             雇用統計：製造業雇用者数        usa\n",
       "28   01/04（金）                雇用統計：平均時給        usa\n",
       "29   01/04（金）            サービス業PMI【確報値】        usa\n",
       "..        ...                      ...        ...\n",
       "221  01/30（水）             消費者物価指数【速報値】    Germany\n",
       "222  01/30（水）                ADP全国雇用者数        usa\n",
       "223  01/30（水）                 中古住宅販売保留        usa\n",
       "224  01/30（水）                   週間原油在庫        usa\n",
       "225  01/30（水）            FOMC政策金利＆声明発表        usa\n",
       "226  01/30（水）            FRB経済・金利見通し発表        usa\n",
       "227  01/30（水）           パウエルFRB議長の記者会見        usa\n",
       "228  01/31（木）  BOJ主な意見公表(1月22日・23日開催分)      japan\n",
       "229  01/31（木）               鉱工業生産【速報値】      japan\n",
       "230  01/31（木）              GFK消費者信頼感調査         uk\n",
       "231  01/31（木）  第4四半期輸入物価指数/第4四半期輸出物価指数  australia\n",
       "232  01/31（木）                   製造業PMI      china\n",
       "233  01/31（木）                  非製造業PMI      china\n",
       "234  01/31（木）                   住宅着工戸数      japan\n",
       "235  01/31（木）                    小売売上高    Germany\n",
       "236  01/31（木）                 失業率＆失業者数    Germany\n",
       "237  01/31（木）                  生産者物価指数          m\n",
       "238  01/31（木）            第4四半期GDP【速報値】         eu\n",
       "239  01/31（木）                      失業率         eu\n",
       "240  01/31（木）                     貿易収支          m\n",
       "241  01/31（木）             チャレンジャー人員削減数        usa\n",
       "242  01/31（木）                      GDP     canada\n",
       "243  01/31（木）                  鉱工業製品価格     canada\n",
       "244  01/31（木）                   原料価格指数     canada\n",
       "245  01/31（木）               新規失業保険申請件数        usa\n",
       "246  01/31（木）             第4四半期雇用コスト指数        usa\n",
       "247  01/31（木）             シカゴ購買部協会景気指数        usa\n",
       "248  01/31（木）                 新築住宅販売件数        usa\n",
       "249  01/31（木）            バイトマン独連銀総裁の発言    Germany\n",
       "250  01/31（木）          ウィルキンスBOC副総裁の発言     canada\n",
       "\n",
       "[251 rows x 3 columns]"
      ]
     },
     "execution_count": 456,
     "metadata": {},
     "output_type": "execute_result"
    }
   ],
   "source": [
    "eco_indicator"
   ]
  },
  {
   "cell_type": "markdown",
   "metadata": {},
   "source": [
    "## flag 取得"
   ]
  },
  {
   "cell_type": "code",
   "execution_count": 409,
   "metadata": {},
   "outputs": [],
   "source": [
    "contents = lists[1].find_elements_by_class_name('list_b')\n",
    "elem = contents[6].find_element_by_tag_name('img')\n",
    "url = elem.get_attribute('src')\n",
    "url.split('/')[5].split('_')[0]"
   ]
  },
  {
   "cell_type": "code",
   "execution_count": null,
   "metadata": {},
   "outputs": [],
   "source": []
  },
  {
   "cell_type": "code",
   "execution_count": null,
   "metadata": {},
   "outputs": [],
   "source": []
  },
  {
   "cell_type": "code",
   "execution_count": null,
   "metadata": {},
   "outputs": [],
   "source": []
  },
  {
   "cell_type": "code",
   "execution_count": null,
   "metadata": {},
   "outputs": [],
   "source": [
    "flg_conts  = lists[1].find_elements_by_class_name('list_b')\n",
    "imps = lists[1].find_elements_by_class_name('list_c')\n",
    "list_1s = lists[1].find_elements_by_class_name('list_d')\n",
    "list_2s = lists[1].find_elements_by_class_name('list_e')\n",
    "list_3s = lists[1].find_elements_by_class_name('list_f')\n",
    "results = lists[1].find_elements_by_class_name('list_3')"
   ]
  },
  {
   "cell_type": "code",
   "execution_count": 3,
   "metadata": {},
   "outputs": [],
   "source": [
    "#products = lists[1].find_elements_by_class_name('product-list')\n",
    "#lists[0].find_elements_by_class_name('product-list')[1].text"
   ]
  },
  {
   "cell_type": "code",
   "execution_count": 4,
   "metadata": {},
   "outputs": [],
   "source": [
    "list_title1 = lists[10].find_elements_by_class_name('mail_b')\n",
    "list_title2 = lists[1].find_elements_by_class_name('flag_a')\n",
    "list_title3 = lists[1].find_elements_by_class_name('flag_b')\n",
    "list_title4 = lists[1].find_elements_by_class_name('list_c')\n",
    "list_title5 = lists[1].find_elements_by_class_name('list_d')\n",
    "list_title6 = lists[1].find_elements_by_class_name('list_e')\n",
    "list_title7 = lists[1].find_elements_by_class_name('list_f')\n",
    "list_title8 = lists[1].find_elements_by_class_name('list_3')"
   ]
  },
  {
   "cell_type": "code",
   "execution_count": 30,
   "metadata": {
    "scrolled": false
   },
   "outputs": [],
   "source": [
    "import pandas as pd\n",
    "\n",
    "for i, title in enumerate(title_days):\n",
    "    #contents = pd.DataFrame(title_days[i].text)\n",
    "    contents = pd.DataFrame(lists[i].text.split('\\n'))"
   ]
  },
  {
   "cell_type": "code",
   "execution_count": 41,
   "metadata": {},
   "outputs": [
    {
     "data": {
      "text/plain": [
       "23"
      ]
     },
     "execution_count": 41,
     "metadata": {},
     "output_type": "execute_result"
    }
   ],
   "source": [
    "len(title_days)"
   ]
  },
  {
   "cell_type": "code",
   "execution_count": 35,
   "metadata": {},
   "outputs": [
    {
     "name": "stdout",
     "output_type": "stream",
     "text": [
      "['01/01（火） 午前6:00～翌午前5:59']\n"
     ]
    },
    {
     "ename": "NameError",
     "evalue": "name 'products' is not defined",
     "output_type": "error",
     "traceback": [
      "\u001b[1;31m---------------------------------------------------------------------------\u001b[0m",
      "\u001b[1;31mNameError\u001b[0m                                 Traceback (most recent call last)",
      "\u001b[1;32m<ipython-input-35-429400236868>\u001b[0m in \u001b[0;36m<module>\u001b[1;34m\u001b[0m\n\u001b[0;32m      1\u001b[0m \u001b[0mprint\u001b[0m\u001b[1;33m(\u001b[0m\u001b[0mtitle_days\u001b[0m\u001b[1;33m[\u001b[0m\u001b[1;36m0\u001b[0m\u001b[1;33m]\u001b[0m\u001b[1;33m.\u001b[0m\u001b[0mtext\u001b[0m\u001b[1;33m.\u001b[0m\u001b[0msplit\u001b[0m\u001b[1;33m(\u001b[0m\u001b[1;34m'\\n'\u001b[0m\u001b[1;33m)\u001b[0m\u001b[1;33m)\u001b[0m\u001b[1;33m\u001b[0m\u001b[1;33m\u001b[0m\u001b[0m\n\u001b[1;32m----> 2\u001b[1;33m \u001b[0mprint\u001b[0m\u001b[1;33m(\u001b[0m\u001b[0mproducts\u001b[0m\u001b[1;33m[\u001b[0m\u001b[1;36m0\u001b[0m\u001b[1;33m]\u001b[0m\u001b[1;33m.\u001b[0m\u001b[0mtext\u001b[0m\u001b[1;33m.\u001b[0m\u001b[0msplit\u001b[0m\u001b[1;33m(\u001b[0m\u001b[1;34m'\\n'\u001b[0m\u001b[1;33m)\u001b[0m\u001b[1;33m)\u001b[0m\u001b[1;33m\u001b[0m\u001b[1;33m\u001b[0m\u001b[0m\n\u001b[0m\u001b[0;32m      3\u001b[0m \u001b[0mprint\u001b[0m\u001b[1;33m(\u001b[0m\u001b[0mproducts\u001b[0m\u001b[1;33m[\u001b[0m\u001b[1;36m2\u001b[0m\u001b[1;33m]\u001b[0m\u001b[1;33m.\u001b[0m\u001b[0mtext\u001b[0m\u001b[1;33m.\u001b[0m\u001b[0msplit\u001b[0m\u001b[1;33m(\u001b[0m\u001b[1;34m'\\n'\u001b[0m\u001b[1;33m)\u001b[0m\u001b[1;33m)\u001b[0m\u001b[1;33m\u001b[0m\u001b[1;33m\u001b[0m\u001b[0m\n\u001b[0;32m      4\u001b[0m \u001b[0mprint\u001b[0m\u001b[1;33m(\u001b[0m\u001b[0mproducts\u001b[0m\u001b[1;33m[\u001b[0m\u001b[1;36m3\u001b[0m\u001b[1;33m]\u001b[0m\u001b[1;33m.\u001b[0m\u001b[0mtext\u001b[0m\u001b[1;33m.\u001b[0m\u001b[0msplit\u001b[0m\u001b[1;33m(\u001b[0m\u001b[1;34m'\\n'\u001b[0m\u001b[1;33m)\u001b[0m\u001b[1;33m)\u001b[0m\u001b[1;33m\u001b[0m\u001b[1;33m\u001b[0m\u001b[0m\n\u001b[0;32m      5\u001b[0m \u001b[0mprint\u001b[0m\u001b[1;33m(\u001b[0m\u001b[0mproducts\u001b[0m\u001b[1;33m[\u001b[0m\u001b[1;36m4\u001b[0m\u001b[1;33m]\u001b[0m\u001b[1;33m.\u001b[0m\u001b[0mtext\u001b[0m\u001b[1;33m.\u001b[0m\u001b[0msplit\u001b[0m\u001b[1;33m(\u001b[0m\u001b[1;34m'\\n'\u001b[0m\u001b[1;33m)\u001b[0m\u001b[1;33m)\u001b[0m\u001b[1;33m\u001b[0m\u001b[1;33m\u001b[0m\u001b[0m\n",
      "\u001b[1;31mNameError\u001b[0m: name 'products' is not defined"
     ]
    }
   ],
   "source": [
    "print(title_days[0].text.split('\\n'))\n",
    "print(products[0].text.split('\\n'))\n",
    "print(products[2].text.split('\\n'))\n",
    "print(products[3].text.split('\\n'))\n",
    "print(products[4].text.split('\\n'))\n",
    "print(products[5].text.split('\\n'))\n",
    "print(products[6].text.split('\\n'))"
   ]
  },
  {
   "cell_type": "code",
   "execution_count": 159,
   "metadata": {},
   "outputs": [
    {
     "name": "stdout",
     "output_type": "stream",
     "text": [
      "01/01（火） ['--', '注目度の高い経済指標の発表はない', '--', '--', '--']\n"
     ]
    },
    {
     "ename": "IndexError",
     "evalue": "list index out of range",
     "output_type": "error",
     "traceback": [
      "\u001b[1;31m---------------------------------------------------------------------------\u001b[0m",
      "\u001b[1;31mIndexError\u001b[0m                                Traceback (most recent call last)",
      "\u001b[1;32m<ipython-input-159-362e6bc28715>\u001b[0m in \u001b[0;36m<module>\u001b[1;34m\u001b[0m\n\u001b[0;32m      1\u001b[0m \u001b[1;32mfor\u001b[0m \u001b[0mi\u001b[0m\u001b[1;33m,\u001b[0m \u001b[0mtitle\u001b[0m \u001b[1;32min\u001b[0m \u001b[0menumerate\u001b[0m\u001b[1;33m(\u001b[0m\u001b[0mtitle_days\u001b[0m\u001b[1;33m)\u001b[0m\u001b[1;33m:\u001b[0m\u001b[1;33m\u001b[0m\u001b[1;33m\u001b[0m\u001b[0m\n\u001b[0;32m      2\u001b[0m     \u001b[1;32mfor\u001b[0m \u001b[0mj\u001b[0m\u001b[1;33m,\u001b[0m \u001b[0mproduct\u001b[0m \u001b[1;32min\u001b[0m \u001b[0menumerate\u001b[0m\u001b[1;33m(\u001b[0m\u001b[0mlists\u001b[0m\u001b[1;33m)\u001b[0m\u001b[1;33m:\u001b[0m\u001b[1;33m\u001b[0m\u001b[1;33m\u001b[0m\u001b[0m\n\u001b[1;32m----> 3\u001b[1;33m         \u001b[1;32mif\u001b[0m \u001b[0mlists\u001b[0m\u001b[1;33m[\u001b[0m\u001b[0mi\u001b[0m\u001b[1;33m]\u001b[0m\u001b[1;33m.\u001b[0m\u001b[0mfind_elements_by_class_name\u001b[0m\u001b[1;33m(\u001b[0m\u001b[1;34m'product-list'\u001b[0m\u001b[1;33m)\u001b[0m\u001b[1;33m[\u001b[0m\u001b[0mj\u001b[0m\u001b[1;33m]\u001b[0m\u001b[1;33m.\u001b[0m\u001b[0mtext\u001b[0m\u001b[1;33m.\u001b[0m\u001b[0msplit\u001b[0m\u001b[1;33m(\u001b[0m\u001b[1;34m'\\n'\u001b[0m\u001b[1;33m)\u001b[0m\u001b[1;33m[\u001b[0m\u001b[1;36m0\u001b[0m\u001b[1;33m]\u001b[0m \u001b[1;33m==\u001b[0m \u001b[1;34m\"時間\"\u001b[0m\u001b[1;33m:\u001b[0m\u001b[1;33m\u001b[0m\u001b[1;33m\u001b[0m\u001b[0m\n\u001b[0m\u001b[0;32m      4\u001b[0m             \u001b[1;32mcontinue\u001b[0m\u001b[1;33m\u001b[0m\u001b[1;33m\u001b[0m\u001b[0m\n\u001b[0;32m      5\u001b[0m         \u001b[1;32melse\u001b[0m\u001b[1;33m:\u001b[0m\u001b[1;33m\u001b[0m\u001b[1;33m\u001b[0m\u001b[0m\n",
      "\u001b[1;31mIndexError\u001b[0m: list index out of range"
     ]
    }
   ],
   "source": [
    "for i, title in enumerate(title_days):\n",
    "    for j, product in enumerate(lists):\n",
    "        if lists[i].find_elements_by_class_name('product-list')[j].text.split('\\n')[0] == \"時間\":\n",
    "            continue\n",
    "        else:\n",
    "            day = title_days[i].text.split(' ')[0]\n",
    "            product = lists[i].find_elements_by_class_name('product-list')[j].text.split('\\n')\n",
    "            #product = products[j].text.split('\\n')\n",
    "            print(day, product)"
   ]
  },
  {
   "cell_type": "code",
   "execution_count": 132,
   "metadata": {},
   "outputs": [],
   "source": [
    "import pandas as pd\n",
    "df = pd.DataFrame()\n",
    "\n",
    "df['day'] = day\n",
    "df['product'] = product"
   ]
  },
  {
   "cell_type": "code",
   "execution_count": 133,
   "metadata": {},
   "outputs": [
    {
     "data": {
      "text/html": [
       "<div>\n",
       "<style scoped>\n",
       "    .dataframe tbody tr th:only-of-type {\n",
       "        vertical-align: middle;\n",
       "    }\n",
       "\n",
       "    .dataframe tbody tr th {\n",
       "        vertical-align: top;\n",
       "    }\n",
       "\n",
       "    .dataframe thead th {\n",
       "        text-align: right;\n",
       "    }\n",
       "</style>\n",
       "<table border=\"1\" class=\"dataframe\">\n",
       "  <thead>\n",
       "    <tr style=\"text-align: right;\">\n",
       "      <th></th>\n",
       "      <th>day</th>\n",
       "      <th>product</th>\n",
       "    </tr>\n",
       "  </thead>\n",
       "  <tbody>\n",
       "    <tr>\n",
       "      <th>0</th>\n",
       "      <td>NaN</td>\n",
       "      <td>23:45</td>\n",
       "    </tr>\n",
       "    <tr>\n",
       "      <th>1</th>\n",
       "      <td>NaN</td>\n",
       "      <td>製造業PMI【確報値】</td>\n",
       "    </tr>\n",
       "    <tr>\n",
       "      <th>2</th>\n",
       "      <td>NaN</td>\n",
       "      <td>53.9</td>\n",
       "    </tr>\n",
       "    <tr>\n",
       "      <th>3</th>\n",
       "      <td>NaN</td>\n",
       "      <td>53.9</td>\n",
       "    </tr>\n",
       "    <tr>\n",
       "      <th>4</th>\n",
       "      <td>NaN</td>\n",
       "      <td>53.8</td>\n",
       "    </tr>\n",
       "  </tbody>\n",
       "</table>\n",
       "</div>"
      ],
      "text/plain": [
       "   day      product\n",
       "0  NaN        23:45\n",
       "1  NaN  製造業PMI【確報値】\n",
       "2  NaN         53.9\n",
       "3  NaN         53.9\n",
       "4  NaN         53.8"
      ]
     },
     "execution_count": 133,
     "metadata": {},
     "output_type": "execute_result"
    }
   ],
   "source": [
    "df"
   ]
  },
  {
   "cell_type": "code",
   "execution_count": 115,
   "metadata": {},
   "outputs": [],
   "source": [
    "list_title2 = products[1].find_element_by_xpath('//*[@id=\"main_content\"]/div/div[6]/ul[2]/li[2]/div[1]/img')"
   ]
  },
  {
   "cell_type": "code",
   "execution_count": 118,
   "metadata": {},
   "outputs": [
    {
     "data": {
      "text/plain": [
       "''"
      ]
     },
     "execution_count": 118,
     "metadata": {},
     "output_type": "execute_result"
    }
   ],
   "source": [
    "list_title2.text"
   ]
  },
  {
   "cell_type": "code",
   "execution_count": 89,
   "metadata": {},
   "outputs": [
    {
     "data": {
      "text/plain": [
       "[<selenium.webdriver.remote.webelement.WebElement (session=\"a3b4132c3c14042aca433532d04b22a9\", element=\"0.7069437653347148-51\")>,\n",
       " <selenium.webdriver.remote.webelement.WebElement (session=\"a3b4132c3c14042aca433532d04b22a9\", element=\"0.7069437653347148-52\")>,\n",
       " <selenium.webdriver.remote.webelement.WebElement (session=\"a3b4132c3c14042aca433532d04b22a9\", element=\"0.7069437653347148-53\")>,\n",
       " <selenium.webdriver.remote.webelement.WebElement (session=\"a3b4132c3c14042aca433532d04b22a9\", element=\"0.7069437653347148-54\")>,\n",
       " <selenium.webdriver.remote.webelement.WebElement (session=\"a3b4132c3c14042aca433532d04b22a9\", element=\"0.7069437653347148-55\")>,\n",
       " <selenium.webdriver.remote.webelement.WebElement (session=\"a3b4132c3c14042aca433532d04b22a9\", element=\"0.7069437653347148-56\")>]"
      ]
     },
     "execution_count": 89,
     "metadata": {},
     "output_type": "execute_result"
    }
   ],
   "source": [
    "flg = list_title2.find_elements_by"
   ]
  },
  {
   "cell_type": "code",
   "execution_count": 56,
   "metadata": {},
   "outputs": [],
   "source": [
    "list_title1 = lists[1].find_elements_by_class_name('mail_b')\n",
    "list_title2 = lists[1].find_elements_by_class_name('flag_a')\n",
    "list_title3 = lists[1].find_elements_by_class_name('flag_b')\n",
    "list_title4 = lists[1].find_elements_by_class_name('list_c')\n",
    "list_title5 = lists[1].find_elements_by_class_name('list_d')\n",
    "list_title6 = lists[1].find_elements_by_class_name('list_e')\n",
    "list_title7 = lists[1].find_elements_by_class_name('list_f')\n",
    "list_title8 = lists[1].find_elements_by_class_name('list_3')"
   ]
  },
  {
   "cell_type": "code",
   "execution_count": 61,
   "metadata": {},
   "outputs": [
    {
     "data": {
      "text/plain": [
       "''"
      ]
     },
     "execution_count": 61,
     "metadata": {},
     "output_type": "execute_result"
    }
   ],
   "source": [
    "list_title2[0].text"
   ]
  },
  {
   "cell_type": "code",
   "execution_count": 52,
   "metadata": {},
   "outputs": [
    {
     "ename": "AttributeError",
     "evalue": "'list' object has no attribute 'find_elements_by_class_name'",
     "output_type": "error",
     "traceback": [
      "\u001b[1;31m---------------------------------------------------------------------------\u001b[0m",
      "\u001b[1;31mAttributeError\u001b[0m                            Traceback (most recent call last)",
      "\u001b[1;32m<ipython-input-52-6b05399bdfcc>\u001b[0m in \u001b[0;36m<module>\u001b[1;34m\u001b[0m\n\u001b[1;32m----> 1\u001b[1;33m \u001b[0mtitle1\u001b[0m \u001b[1;33m=\u001b[0m \u001b[0mmain\u001b[0m\u001b[1;33m.\u001b[0m\u001b[0mfind_elements_by_class_name\u001b[0m\u001b[1;33m(\u001b[0m\u001b[1;34m'title_day'\u001b[0m\u001b[1;33m)\u001b[0m\u001b[1;33m\u001b[0m\u001b[1;33m\u001b[0m\u001b[0m\n\u001b[0m",
      "\u001b[1;31mAttributeError\u001b[0m: 'list' object has no attribute 'find_elements_by_class_name'"
     ]
    }
   ],
   "source": [
    "times = soup.find_all(\"div\", class_=[\"mail_b\"])\n",
    "flag_a = soup.find_all(\"div\", class_=[\"flag_a\"])\n",
    "flag_b = soup.find_all(\"div\", class_=[\"flag_b\"])\n",
    "list_c = soup.find_all(\"li\", class_=[\"list_c\"])\n",
    "list_d = soup.find_all(\"li\", class_=[\"list_d\"])\n",
    "list_e = soup.find_all(\"li\", class_=[\"list_e\"])\n",
    "list_f = soup.find_all(\"li\", class_=[\"list_f\"])\n",
    "list_3  = soup.find_all(\"li\", class_=[\"list_3\"])"
   ]
  },
  {
   "cell_type": "code",
   "execution_count": 33,
   "metadata": {},
   "outputs": [
    {
     "data": {
      "text/plain": [
       "'01/01（火） 午前6:00～翌午前5:59'"
      ]
     },
     "execution_count": 33,
     "metadata": {},
     "output_type": "execute_result"
    }
   ],
   "source": [
    "title1.text"
   ]
  },
  {
   "cell_type": "code",
   "execution_count": 20,
   "metadata": {},
   "outputs": [],
   "source": [
    "elems_div_lists = browser.find_elements_by_class_name('list_waku')"
   ]
  },
  {
   "cell_type": "code",
   "execution_count": 75,
   "metadata": {},
   "outputs": [],
   "source": [
    "int = 2\n",
    "elem = browser.find_elements_by_xpath('//*[@id=\"main_content\"]/div/div[8]/ul[8]/li[4]')"
   ]
  },
  {
   "cell_type": "code",
   "execution_count": 76,
   "metadata": {},
   "outputs": [
    {
     "ename": "IndexError",
     "evalue": "list index out of range",
     "output_type": "error",
     "traceback": [
      "\u001b[1;31m---------------------------------------------------------------------------\u001b[0m",
      "\u001b[1;31mIndexError\u001b[0m                                Traceback (most recent call last)",
      "\u001b[1;32m<ipython-input-76-51268f4f1937>\u001b[0m in \u001b[0;36m<module>\u001b[1;34m\u001b[0m\n\u001b[1;32m----> 1\u001b[1;33m \u001b[0melem\u001b[0m\u001b[1;33m[\u001b[0m\u001b[1;36m0\u001b[0m\u001b[1;33m]\u001b[0m\u001b[1;33m.\u001b[0m\u001b[0mtext\u001b[0m\u001b[1;33m\u001b[0m\u001b[1;33m\u001b[0m\u001b[0m\n\u001b[0m",
      "\u001b[1;31mIndexError\u001b[0m: list index out of range"
     ]
    }
   ],
   "source": [
    "elem[0].text"
   ]
  },
  {
   "cell_type": "code",
   "execution_count": 45,
   "metadata": {},
   "outputs": [],
   "source": [
    "elem = browser.find_elements_by_xpath('//*[@id=\"main_content\"]/div/div[8]/ul[2]/li[2]')"
   ]
  },
  {
   "cell_type": "code",
   "execution_count": null,
   "metadata": {},
   "outputs": [],
   "source": []
  }
 ],
 "metadata": {
  "kernelspec": {
   "display_name": "Python 3",
   "language": "python",
   "name": "python3"
  },
  "language_info": {
   "codemirror_mode": {
    "name": "ipython",
    "version": 3
   },
   "file_extension": ".py",
   "mimetype": "text/x-python",
   "name": "python",
   "nbconvert_exporter": "python",
   "pygments_lexer": "ipython3",
   "version": "3.7.2"
  }
 },
 "nbformat": 4,
 "nbformat_minor": 2
}
