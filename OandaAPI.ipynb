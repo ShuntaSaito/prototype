{
 "cells": [
  {
   "cell_type": "code",
   "execution_count": 11,
   "metadata": {},
   "outputs": [],
   "source": [
    "import requests, re,os\n",
    "import pandas as pd\n",
    "\n",
    "class TypeBase():\n",
    "    def __init__(self,dictonary):\n",
    "        for key in dictonary :\n",
    "            target = self._converter(dictonary[key])\n",
    "            setattr(self, key, target)\n",
    "    def _converter(self,target):\n",
    "        if type(target) is str:\n",
    "            if re.match(\"^\\d+?\\.\\d+?$\", target):\n",
    "                target = float(target)\n",
    "            elif re.match(\"^\\d+$\", target):\n",
    "                target = int(target)\n",
    "        return target\n",
    "    \n",
    "class Instrument(TypeBase):\n",
    "    def __init__(self,dictonary):\n",
    "        super().__init__(dictonary)\n",
    "        \n",
    "class Host():\n",
    "    def __init__(self,rest,stream):\n",
    "        self.rest = rest \n",
    "        self.stream = stream \n",
    "        for name in ['rest','stream']:\n",
    "            setattr(self, name, getattr(self, name) + '/v3/')\n",
    "            \n",
    "class Request():\n",
    "    def __init__(self,key,type):\n",
    "        if type is 'sandbox':\n",
    "            self.host = Host('http://api-sandbox.oanda.com','http://stream-sandbox.oanda.com' )\n",
    "        elif type is 'practice':\n",
    "            self.host = Host('https://api-fxpractice.oanda.com','https://stream-fxpractice.oanda.com' )\n",
    "        elif type is 'real':\n",
    "            self.host = Host('https://api-fxtrade.oanda.com','https://stream-fxtrade.oanda.com' )\n",
    "        else :\n",
    "            raise Exception('unknown type')\n",
    "        self.headers = {\n",
    "            \"Authorization\" : 'Bearer ' + key,\n",
    "            \"X-Accept-Datetime-Format\" : 'UNIX'\n",
    "        }\n",
    "    def get(self,url,params={}):\n",
    "        response = requests.get(self.host.rest+url,headers=self.headers,params=params)\n",
    "        json = response.json()\n",
    "        err = None\n",
    "        if 'errorMessage' in json:\n",
    "            err = json['errorMessage']\n",
    "            return err,None\n",
    "        return None,json\n",
    "\n",
    "class API():\n",
    "    def __init__(self,key,type,id=None):\n",
    "        self.request = Request(key,type)\n",
    "        if id:\n",
    "            self.account_id = id\n",
    "            return;\n",
    "        err,accounts = self.accounts()\n",
    "        if err:\n",
    "            raise Exception(err)\n",
    "        using = None\n",
    "        print('============== ACCOUNTS =================')\n",
    "        for account in accounts:\n",
    "            if using : \n",
    "                print(account['id'])\n",
    "            else:\n",
    "                using = account['id']\n",
    "                print(account['id'] + ' << using this account.')\n",
    "        self.account_id = using\n",
    "    def _get(self,url,name,clas=None,params={}):\n",
    "        err, data = self.request.get(url,params)\n",
    "        if data and name in data:\n",
    "            data = data[name]\n",
    "            if clas :\n",
    "                instanced = []\n",
    "                for single in data:\n",
    "                    instanced.append(clas(single))\n",
    "                data = instanced\n",
    "        return err , data\n",
    "    def accounts(self):\n",
    "        return self._get('accounts','accounts')\n",
    "    def instruments(self,account_id=None):\n",
    "        if account_id is None:\n",
    "            account_id = self.account_id\n",
    "        return self._get(\n",
    "            'accounts/' + account_id + '/instruments',\n",
    "            'instruments',\n",
    "            Instrument)\n",
    "    def candles(self,params):\n",
    "        instrument = params['instrument']\n",
    "        params.pop('instrument',None)\n",
    "        if 'count' not in params:\n",
    "            params['count'] = 5000\n",
    "        err, candles = self._get(\n",
    "            'instruments/'+instrument+'/candles',\n",
    "            'candles',\n",
    "            params=params)\n",
    "        if candles is None:\n",
    "            return err,candles\n",
    "        if len(candles) == 0:\n",
    "            return 'no more data',None\n",
    "        temp = []\n",
    "        for candle in candles:\n",
    "            if 'mid' in candle:\n",
    "                for key, value in {'o':'open','h':'high','l':'low','c':'close'}.items():\n",
    "                    candle[value] = candle['mid'][key]\n",
    "                candle.pop('mid',None)\n",
    "                candle.pop('complete',None)\n",
    "                temp.append(candle)\n",
    "        candles = pd.DataFrame(temp)\n",
    "        candles.time = pd.to_datetime(candles.time)\n",
    "        #candles.time = candles.time.dt.tz_localize('UTC')\n",
    "        candles = candles.set_index('time')\n",
    "        candles = candles.reindex_axis(['open','high','low','close','volume'], axis=1)\n",
    "        for name in ['open','high','low','close']:\n",
    "            candles[name] = candles[name].astype('float')\n",
    "        return err, candles\n",
    "    \n",
    "class OANDA():\n",
    "    def __init__(self, key= None,type='practice',id=None):\n",
    "        if key is None:\n",
    "            raise Exception('need api key')\n",
    "        self.api = API(key,type,id)"
   ]
  },
  {
   "cell_type": "code",
   "execution_count": 12,
   "metadata": {},
   "outputs": [],
   "source": [
    "import configparser\n",
    "# API接続のコンフィグを読み込み\n",
    "config = configparser.ConfigParser()\n",
    "\n",
    "#config.read('../Desktop/Oanda_API/config/config_v1.txt')\n",
    "config.read('C:/Users/goomo/Desktop/Oanda_API/config//config_v1.txt')\n",
    "account_id = config['oanda']['account_id']\n",
    "api_key = config['oanda']['api_key']"
   ]
  },
  {
   "cell_type": "raw",
   "metadata": {},
   "source": [
    "api_key"
   ]
  },
  {
   "cell_type": "code",
   "execution_count": 14,
   "metadata": {},
   "outputs": [],
   "source": [
    "oanda = OANDA(key=api_key, type='practice', id=account_id) "
   ]
  },
  {
   "cell_type": "raw",
   "metadata": {},
   "source": [
    "err, accounts = oanda.api.accounts()\n",
    "print(err)\n",
    "print(accounts)"
   ]
  },
  {
   "cell_type": "code",
   "execution_count": 16,
   "metadata": {},
   "outputs": [],
   "source": [
    "def getHistorical(instrument,granularity,start):\n",
    "    before = None;\n",
    "    count = 1\n",
    "    while(True):\n",
    "        params = {\n",
    "            'instrument' : instrument,\n",
    "            'granularity' : granularity\n",
    "        };\n",
    "        if before is not None:\n",
    "            params['to'] = before.iloc[0].name.timestamp()\n",
    "        err,candles = oanda.api.candles(params)\n",
    "        if err is not None:\n",
    "            print(err)\n",
    "            break;\n",
    "        count += 1\n",
    "        print(\"getting \" + str(count), end=\"\\r\")\n",
    "        if before is None:\n",
    "            before = candles\n",
    "        else:\n",
    "            before = candles.append(before,verify_integrity=True)\n",
    "    directory = \"./data/\"+instrument+\"/\"\n",
    "    if not os.path.exists(directory):\n",
    "        os.makedirs(directory)\n",
    "    before.to_csv(directory + granularity + \".csv\", date_format='%Y-%m-%d %H:%M:%S')"
   ]
  },
  {
   "cell_type": "code",
   "execution_count": 19,
   "metadata": {},
   "outputs": [
    {
     "name": "stdout",
     "output_type": "stream",
     "text": [
      "start JP225_USD M1\n"
     ]
    },
    {
     "name": "stderr",
     "output_type": "stream",
     "text": [
      "C:\\Users\\goomo\\Anaconda3\\envs\\gpu\\lib\\site-packages\\ipykernel_launcher.py:113: FutureWarning: '.reindex_axis' is deprecated and will be removed in a future version. Use '.reindex' instead.\n"
     ]
    },
    {
     "name": "stdout",
     "output_type": "stream",
     "text": [
      "no more data\n",
      "end JP225_USD M1 803.533980846405\n"
     ]
    }
   ],
   "source": [
    "import time\n",
    "\n",
    "#instruments = ['USD_JPY', 'GBP_USD', 'EUR_USD']\n",
    "instruments = ['JP225_USD']\n",
    "granularities = ['M1']\n",
    "start = ['2005']\n",
    "for instrument in instruments:\n",
    "    for granularity in granularities:\n",
    "        print('start',instrument,granularity)\n",
    "        start = time.time()\n",
    "        getHistorical(instrument,granularity,start)\n",
    "        print('end',instrument,granularity,time.time() - start)"
   ]
  },
  {
   "cell_type": "code",
   "execution_count": null,
   "metadata": {},
   "outputs": [],
   "source": []
  }
 ],
 "metadata": {
  "kernelspec": {
   "display_name": "Python 3",
   "language": "python",
   "name": "python3"
  },
  "language_info": {
   "codemirror_mode": {
    "name": "ipython",
    "version": 3
   },
   "file_extension": ".py",
   "mimetype": "text/x-python",
   "name": "python",
   "nbconvert_exporter": "python",
   "pygments_lexer": "ipython3",
   "version": "3.7.2"
  }
 },
 "nbformat": 4,
 "nbformat_minor": 2
}
